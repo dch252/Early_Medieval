{
 "cells": [
  {
   "cell_type": "code",
   "execution_count": null,
   "id": "0360396b",
   "metadata": {},
   "outputs": [],
   "source": [
    "import numpy as np \n",
    "import pandas as pd\n",
    "import matplotlib.pylab as plt \n",
    "import matplotlib as mpl\n",
    "#for making sure matplotlib plots are generated in Jupyter notebook itself\n",
    "%matplotlib inline\n",
    "import geopandas as gpd\n",
    "import random\n",
    "import itertools\n",
    "from shapely.validation import explain_validity\n",
    "from shapely.geometry import MultiPolygon, Polygon, LineString, Point\n",
    "from shapely.validation import make_valid\n",
    "from libpysal.weights import Queen, Rook, KNN"
   ]
  },
  {
   "cell_type": "code",
   "execution_count": null,
   "id": "5b456a6e",
   "metadata": {},
   "outputs": [],
   "source": [
    "gdf=gpd.read_file(r'fittedgrid.shp')\n"
   ]
  },
  {
   "cell_type": "code",
   "execution_count": null,
   "id": "e6265f31",
   "metadata": {},
   "outputs": [],
   "source": [
    "gdf.plot(figsize=(30,15), color='linen',alpha=0.5, edgecolor=\"k\")"
   ]
  },
  {
   "cell_type": "code",
   "execution_count": null,
   "id": "02598a14",
   "metadata": {},
   "outputs": [],
   "source": [
    "gdf.head()"
   ]
  },
  {
   "cell_type": "code",
   "execution_count": null,
   "id": "63afdf9a",
   "metadata": {},
   "outputs": [],
   "source": [
    "len(gdf['id'].unique())"
   ]
  },
  {
   "cell_type": "code",
   "execution_count": null,
   "id": "4e81aeec",
   "metadata": {},
   "outputs": [],
   "source": [
    "gdf.columns"
   ]
  },
  {
   "cell_type": "code",
   "execution_count": null,
   "id": "483add90",
   "metadata": {},
   "outputs": [],
   "source": [
    "gdf=gdf.drop(columns=['left', 'top', 'right', 'bottom'])"
   ]
  },
  {
   "cell_type": "code",
   "execution_count": null,
   "id": "7b3f1321",
   "metadata": {},
   "outputs": [],
   "source": [
    "gdf.head()"
   ]
  },
  {
   "cell_type": "code",
   "execution_count": null,
   "id": "384c3fce-62e9-488a-8d1f-ea896a9a340e",
   "metadata": {},
   "outputs": [],
   "source": [
    "gdf['Area']=gdf['geometry'].area/10**6\n",
    "gdf['Perimeter']=gdf['geometry'].length/1000"
   ]
  },
  {
   "cell_type": "code",
   "execution_count": null,
   "id": "9299fea0-1221-4c95-ad4e-55695d0d9e18",
   "metadata": {},
   "outputs": [],
   "source": [
    "s = 150 \n",
    "a = 3.00 \n",
    "g = 0.035\n",
    "b=np.log(a/((2*g*s)-1))-4*g*s + 4*g\n",
    "K=np.log(5)/(1.5 - 1)"
   ]
  },
  {
   "cell_type": "code",
   "execution_count": null,
   "id": "f53c455d",
   "metadata": {},
   "outputs": [],
   "source": [
    "#b=1.03573227355399\n",
    "#K=3.2188758248682006\n",
    "gdf['Military_power']=gdf['Area']/(a+np.exp(g*gdf['Perimeter']+b))\n",
    "gdf['kingdom']=gdf['id']"
   ]
  },
  {
   "cell_type": "code",
   "execution_count": null,
   "id": "5e712d1c",
   "metadata": {},
   "outputs": [],
   "source": [
    "gdf.head()"
   ]
  },
  {
   "cell_type": "code",
   "execution_count": null,
   "id": "37173174",
   "metadata": {},
   "outputs": [],
   "source": [
    "def neigbours(gdf,row):\n",
    "    neighbours=w_rook.neighbors[row]\n",
    "    if len(neighbours)==0:\n",
    "        print('no battle')\n",
    "        return    \n",
    "    \n",
    "    return neighbours"
   ]
  },
  {
   "cell_type": "code",
   "execution_count": null,
   "id": "769f0b14",
   "metadata": {},
   "outputs": [],
   "source": [
    "def battle(gdf):\n",
    "\n",
    "    attackernumber=random.choice(gdf.index.values)\n",
    "    gdf['neighbours']=gdf['geometry'].touches(gdf.iloc[attackernumber].geometry)\n",
    "    gdf.loc[gdf['neighbours']==True]\n",
    "    power_ranked=gdf.loc[gdf['neighbours']==True].sort_values(by=['Military_power']).index\n",
    "    if power_ranked.size==0:\n",
    "        print('no neighbours, no battle')\n",
    "        result=gdf\n",
    "        return result\n",
    "    targetnumber=power_ranked[0]\n",
    "    print(gdf.at[attackernumber,'kingdom'],gdf.at[targetnumber,'kingdom'])\n",
    "    if (gdf.loc[[attackernumber]].kingdom.values == gdf.loc[[targetnumber]].kingdom.values):\n",
    "        print('no self battle')\n",
    "        result=gdf\n",
    "        return result\n",
    "    poweroftarget=(gdf.at[targetnumber, 'Military_power'])\n",
    "    powerofaggressor=(gdf.at[attackernumber, 'Military_power'])\n",
    "    probofsuccess=1-0.5*np.exp(-K*(powerofaggressor/poweroftarget)-1)\n",
    "    rand=random.uniform(0, 1)\n",
    "    if rand > probofsuccess:\n",
    "        (attackernumber,targetnumber)=(targetnumber,attackernumber)\n",
    "    gdf.at[targetnumber,'kingdom']=gdf.at[attackernumber,'kingdom'] \n",
    "    row1=gdf.iloc[[targetnumber]] #target\n",
    "    row2=gdf.iloc[[attackernumber]] #aggressor\n",
    "    joined = pd.concat([row1.geometry, row2.geometry])\n",
    "    polygon = joined.geometry.unary_union   \n",
    "    gdf.at[attackernumber,'geometry']=polygon\n",
    "    gdf.at[attackernumber,'Area']=gdf.at[attackernumber,'geometry'].area/10**6\n",
    "    gdf.at[attackernumber,'Perimeter']=gdf.at[attackernumber,'geometry'].length/1000\n",
    "    gdf.at[attackernumber,'Military_power']=gdf.at[attackernumber,'Area']/(a+np.exp(g*gdf.at[attackernumber,'Perimeter']+b))   \n",
    "    ax=gdf.plot(figsize=(30,15), color='linen',alpha=0.5, edgecolor=\"k\")\n",
    "    (gdf.loc[[attackernumber],'geometry']).plot(ax=ax,alpha=0.5, edgecolor=\"k\", color='forestgreen')    \n",
    "    gdf=(gdf.drop(gdf.index[[targetnumber]]))\n",
    "    gdf.reset_index(drop=True, inplace=True)\n",
    "      \n",
    "    result=gdf\n",
    "    return result\n",
    "        \n",
    "    \n",
    "    \n",
    "    "
   ]
  },
  {
   "cell_type": "code",
   "execution_count": null,
   "id": "0a6e50c5",
   "metadata": {},
   "outputs": [],
   "source": [
    "result=battle(gdf)"
   ]
  },
  {
   "cell_type": "code",
   "execution_count": null,
   "id": "bc12133a",
   "metadata": {},
   "outputs": [],
   "source": [
    "#run N interations\n",
    "results=[]\n",
    "count=1\n",
    "while count < 2000:\n",
    "    print(count)\n",
    "    result=battle(result)\n",
    "    results.append(result)\n",
    "    # Save the dataframe to a CSV file\n",
    "    filename= ('battle1_%s.csv' % (count))\n",
    "    result.to_csv(filename, index=False)\n",
    "    count=count+1"
   ]
  },
  {
   "cell_type": "code",
   "execution_count": null,
   "id": "e552738b",
   "metadata": {},
   "outputs": [],
   "source": [
    "for i in range(0,1997,10):\n",
    "    sorted=results[i].sort_values('Area',ascending=False)\n",
    "    sorted.reset_index(drop=True, inplace=True)\n",
    "\n",
    "    ax=gdf.plot(figsize=(30,15) , edgecolor=\"lightblue\",color='linen', alpha=1)\n",
    "    ax.set_facecolor('lightblue')\n",
    "    sorted.loc[[0]].geometry.plot(ax=ax,alpha=0.5, edgecolor=\"lightblue\", color='red')\n",
    "    sorted.loc[[1]].geometry.plot(ax=ax,alpha=0.5, edgecolor=\"lightblue\", color='rosybrown')\n",
    "    sorted.loc[[2]].geometry.plot(ax=ax,alpha=0.5, edgecolor=\"lightblue\", color='orange')\n",
    "    sorted.loc[[3]].geometry.plot(ax=ax,alpha=0.5, edgecolor=\"lightblue\", color='grey')\n",
    "    sorted.loc[[4]].geometry.plot(ax=ax,alpha=0.5, edgecolor=\"lightblue\", color='darkgrey')\n",
    "    sorted.loc[[5]].geometry.plot(ax=ax,alpha=0.5, edgecolor=\"lightblue\", color='crimson')\n",
    "    sorted.loc[[6]].geometry.plot(ax=ax,alpha=0.5, edgecolor=\"lightblue\", color='azure')\n",
    "    sorted.loc[[7]].geometry.plot(ax=ax,alpha=0.5, edgecolor=\"lightblue\", color='green')\n",
    "    sorted.loc[[8]].geometry.plot(ax=ax,alpha=0.5, edgecolor=\"lightblue\", color='blue')\n",
    "    sorted.loc[[9]].geometry.plot(ax=ax,alpha=0.5, edgecolor=\"lightblue\", color='darkblue') "
   ]
  },
  {
   "cell_type": "code",
   "execution_count": null,
   "id": "ba5a5774",
   "metadata": {},
   "outputs": [],
   "source": [
    "patches=[]\n",
    "\n",
    "for i in range(0,len(results)):\n",
    "    patches.append(len(results[i]))\n",
    "   # print(len(results[i]))"
   ]
  },
  {
   "cell_type": "code",
   "execution_count": null,
   "id": "949366a0",
   "metadata": {},
   "outputs": [],
   "source": [
    "x = np.linspace(0, len(results), len(results))\n",
    "y=patches\n",
    "# plot\n",
    "fig, ax = plt.subplots()\n",
    "ax.plot(x, y, linewidth=2.0)\n",
    "plt.show()"
   ]
  },
  {
   "cell_type": "code",
   "execution_count": null,
   "id": "3f6c1ebf",
   "metadata": {},
   "outputs": [],
   "source": [
    "sizes=[]\n",
    "for i in range(0,len(results)):\n",
    "    sizes.append(max(results[i].Area))\n",
    "    #print(max(results[i].Area))"
   ]
  },
  {
   "cell_type": "code",
   "execution_count": null,
   "id": "dbf23177",
   "metadata": {},
   "outputs": [],
   "source": [
    "x = np.linspace(0, len(results), len(results))\n",
    "y=sizes\n",
    "# plot\n",
    "fig, ax = plt.subplots()\n",
    "\n",
    "ax.plot(x, y, linewidth=2.0)\n",
    "plt.show()"
   ]
  },
  {
   "cell_type": "code",
   "execution_count": null,
   "id": "61da5f7f-fa70-404c-a668-623d987ba988",
   "metadata": {},
   "outputs": [],
   "source": [
    "avesizes=[]\n",
    "for i in range(0,len(results)):\n",
    "    avesizes.append(max(results[i].Area)/len(results[i]))\n",
    "    #print(max(results[i].Area))"
   ]
  },
  {
   "cell_type": "code",
   "execution_count": null,
   "id": "f5f3cc18-cfab-4ae1-b020-5bde99a627ee",
   "metadata": {},
   "outputs": [],
   "source": [
    "x = np.linspace(0, len(results), len(results))\n",
    "y=avesizes\n",
    "# plot\n",
    "fig, ax = plt.subplots()\n",
    "\n",
    "ax.plot(x, y, linewidth=2.0)\n",
    "plt.xlim([1740, 1753]) \n",
    "plt.show()"
   ]
  },
  {
   "cell_type": "code",
   "execution_count": null,
   "id": "b1799d0f-2d3b-4ebc-b202-cedf86d0a609",
   "metadata": {},
   "outputs": [],
   "source": [
    "results=results[0:1753]\n",
    "\n",
    "kingdoms=[]\n",
    "for i in range(0,len(results)):\n",
    "    kingdoms.append(len(results[i].kingdom.unique()))\n",
    "    #print(max(results[i].Area))"
   ]
  },
  {
   "cell_type": "code",
   "execution_count": null,
   "id": "9557dfa2-6fd2-454b-a160-1af4858f4d05",
   "metadata": {},
   "outputs": [],
   "source": [
    "x = np.linspace(0, len(results), len(results))\n",
    "y=kingdoms\n",
    "# plot\n",
    "fig, ax = plt.subplots()\n",
    "\n",
    "ax.plot(x, y, linewidth=2.0)\n",
    "#plt.xlim([1727, 1800]) \n",
    "#plt.ylim([0, 250]) \n",
    "plt.show()"
   ]
  },
  {
   "cell_type": "code",
   "execution_count": null,
   "id": "b72730bb-99b7-41b8-ab17-fa9b36654a08",
   "metadata": {},
   "outputs": [],
   "source": [
    "\n",
    "\n",
    "#dy/dt=cAexp (√A/h)-a"
   ]
  },
  {
   "cell_type": "code",
   "execution_count": null,
   "id": "70d056b2-fe7b-42a6-87ff-a238c6b33ac5",
   "metadata": {},
   "outputs": [],
   "source": [
    "sizes=[]\n",
    "for i in range(0,len(results)):\n",
    "    sizes.append(max(results[i].Area))\n",
    "    #print(max(results[i].Area))\n",
    "\n",
    "\n",
    "\n",
    "x = np.linspace(0, len(results), len(results))\n",
    "y=sizes\n",
    "# plot\n",
    "fig, ax = plt.subplots()\n",
    "\n",
    "ax.plot(x, y, linewidth=2.0)\n",
    "plt.show()"
   ]
  },
  {
   "cell_type": "code",
   "execution_count": null,
   "id": "fc16b7a8-c518-4106-bafe-8f1f554a7ae5",
   "metadata": {},
   "outputs": [],
   "source": [
    "#dy/dt=cAexp (√A/h)-a\n",
    "\n",
    "\n",
    "def model_f(x,a,b,c):\n",
    "  return a*np.exp(b * np.sqrt(x) ) -c"
   ]
  },
  {
   "cell_type": "code",
   "execution_count": null,
   "id": "2a409831-8f65-4728-851d-a235d45c9f4f",
   "metadata": {},
   "outputs": [],
   "source": [
    "popt, pcov = curve_fit(model_f, x, y, maxfev = 80000000)"
   ]
  },
  {
   "cell_type": "code",
   "execution_count": null,
   "id": "44895d0f-f067-4e24-9d50-7e9cb03e30ad",
   "metadata": {},
   "outputs": [],
   "source": [
    "popt"
   ]
  },
  {
   "cell_type": "code",
   "execution_count": null,
   "id": "e580e9d2-b786-4905-9029-74d4323cfa76",
   "metadata": {},
   "outputs": [],
   "source": [
    "popt[0]"
   ]
  },
  {
   "cell_type": "code",
   "execution_count": null,
   "id": "b6cf08c9-acdd-42e3-91a5-57ed2411a1a6",
   "metadata": {},
   "outputs": [],
   "source": [
    "a=popt[0]\n",
    "b=popt[1]\n",
    "c=popt[2]\n",
    "\n",
    "\n",
    "\n",
    "x=np.linspace(0,1753,1753)\n",
    "x1 = np.linspace(0,1753,1753)\n",
    "y1=a*np.exp(b * np.sqrt(x) ) -c\n",
    "\n",
    "ax=plt.plot(x,y, label='Simulated curve')\n",
    "plt.plot(x,y1, marker='o', markevery=100, label='Fitted curve')\n",
    "\n",
    "\n",
    "plt.xlabel(\"iterations\")\n",
    "plt.ylabel(\"Area\")\n",
    "plt.legend(loc=\"upper left\")\n",
    "\n",
    "\n"
   ]
  },
  {
   "cell_type": "code",
   "execution_count": null,
   "id": "cf96abee-5286-4c13-9234-b835d6ef928e",
   "metadata": {},
   "outputs": [],
   "source": []
  }
 ],
 "metadata": {
  "kernelspec": {
   "display_name": "Python 3 (ipykernel)",
   "language": "python",
   "name": "python3"
  },
  "language_info": {
   "codemirror_mode": {
    "name": "ipython",
    "version": 3
   },
   "file_extension": ".py",
   "mimetype": "text/x-python",
   "name": "python",
   "nbconvert_exporter": "python",
   "pygments_lexer": "ipython3",
   "version": "3.9.13"
  }
 },
 "nbformat": 4,
 "nbformat_minor": 5
}
